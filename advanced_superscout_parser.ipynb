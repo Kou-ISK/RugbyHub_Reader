{
 "cells": [
  {
   "cell_type": "code",
   "execution_count": 1,
   "metadata": {},
   "outputs": [],
   "source": [
    "import xml.etree.ElementTree as ET \n",
    "import pandas as pd\n",
    "import os\n",
    "import csv\n",
    "\n",
    "master = pd.read_csv(os.getcwd() + \"/Resources/RugbyHub_master_data.csv\",dtype=str)\n",
    "\n",
    "# XMLファイルを解析\n",
    "tree = ET.parse('/Users/isakakou/Desktop/932604_OSPRvLEIC_advanced_superscout.xml') \n",
    "\n",
    "# XMLを取得\n",
    "root = tree.getroot()\n",
    "df = pd.DataFrame(index=[],columns = ['ID','FXID','PLID','team_id','ps_timestamp','ps_endstamp','MatchTime','psID','period',\n",
    "           'x_coord','y_coord','x_coord_end','y_coord_end','action','ActionType','Actionresult',\n",
    "           'qualifier3','qualifier4','qualifier5','Metres','PlayNum','SetNum',\n",
    "           'sequence_id','player_advantage','score_advantage','flag','advantage','assoc_player'])\n",
    "\n",
    "for action in root.iter('ActionRow'):\n",
    "    s = pd.Series([action.get('ID'),action.get('FXID'),action.get('PLID'),action.get('team_id'),\n",
    "                   action.get('ps_timestamp'),action.get('ps_endstamp'),action.get('MatchTime'),action.get('psID'),\n",
    "                   action.get('period'),action.get('x_coord'),action.get('y_coord'),action.get('x_coord_end'),action.get('y_coord_end'),\n",
    "                   action.get('action'),action.get('ActionType'),action.get('Actionresult'),action.get('qualifier3'),\n",
    "                   action.get('qualifier4'),action.get('qualifier5'),action.get('Metres'),action.get('PlayNum'),action.get('SetNum'),\n",
    "                   action.get('sequence_id'),action.get('player_advantage'),action.get('score_advantage'),action.get('flag'),\n",
    "                   action.get('advantage'),action.get('assoc_player')], index = df.columns)\n",
    "    df = df.append(s, ignore_index=True)\n",
    "df.qualifier3 = df.qualifier3.map(master.set_index('ID').Definition)\n",
    "df.qualifier4 = df.qualifier4.map(master.set_index('ID').Definition)\n",
    "df.qualifier5 = df.qualifier5.map(master.set_index('ID').Definition)\n",
    "df.Actionresult = df.Actionresult.map(master.set_index('ID').Definition)\n",
    "df.ActionType = df.ActionType.map(master.set_index('ID').Definition)\n",
    "df.action = df.action.map(master.set_index('ID').Definition)\n",
    "df.to_csv('/Users/isakakou/Desktop/optaTest.csv', header=True, index=False)"
   ]
  },
  {
   "cell_type": "code",
   "execution_count": 4,
   "metadata": {},
   "outputs": [],
   "source": []
  },
  {
   "cell_type": "code",
   "execution_count": null,
   "metadata": {},
   "outputs": [],
   "source": []
  },
  {
   "cell_type": "code",
   "execution_count": null,
   "metadata": {},
   "outputs": [],
   "source": []
  }
 ],
 "metadata": {
  "kernelspec": {
   "display_name": "Python 3",
   "language": "python",
   "name": "python3"
  },
  "language_info": {
   "codemirror_mode": {
    "name": "ipython",
    "version": 3
   },
   "file_extension": ".py",
   "mimetype": "text/x-python",
   "name": "python",
   "nbconvert_exporter": "python",
   "pygments_lexer": "ipython3",
   "version": "3.8.5"
  }
 },
 "nbformat": 4,
 "nbformat_minor": 4
}
